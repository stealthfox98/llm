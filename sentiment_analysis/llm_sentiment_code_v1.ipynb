{
 "cells": [
  {
   "cell_type": "code",
   "execution_count": 1,
   "id": "5727edd4",
   "metadata": {},
   "outputs": [],
   "source": [
    "# Library imports\n",
    "import os\n",
    "import re\n",
    "import getpass\n",
    "import pandas as pd\n",
    "from langchain_groq import ChatGroq\n",
    "from langchain_core.runnables import RunnableLambda\n",
    "from langchain_core.runnables.base import RunnableSequence"
   ]
  },
  {
   "cell_type": "code",
   "execution_count": 2,
   "id": "3291c3ea",
   "metadata": {},
   "outputs": [],
   "source": [
    "# !pip install -q langchain langchain-community langchain-groq"
   ]
  },
  {
   "cell_type": "code",
   "execution_count": 3,
   "id": "4b279169",
   "metadata": {},
   "outputs": [],
   "source": [
    "# API key set up\n",
    "\n",
    "if \"GROQ_API_KEY\" not in os.environ:\n",
    "    os.environ[\"GROQ_API_KEY\"] = getpass.getpass(\"Enter your GROQ API key: \")\n",
    "\n"
   ]
  },
  {
   "cell_type": "code",
   "execution_count": 4,
   "id": "77686447",
   "metadata": {},
   "outputs": [],
   "source": [
    "# Text cleaning and transformation\n",
    "\n",
    "def clean_transform_text(text):\n",
    "  #Remove special characters and normalize whitespace\n",
    "  input_text = re.sub(r'[^A-Za-z0-9\\s]', '', text)\n",
    "  cleaned_text = re.sub(r'\\s+', ' ', input_text).strip()\n",
    "  return cleaned_text"
   ]
  },
  {
   "cell_type": "code",
   "execution_count": 5,
   "id": "51f0a707",
   "metadata": {},
   "outputs": [],
   "source": [
    "# Sentiment analysis (core function)\n",
    "\n",
    "def sentiment_analysis(text):\n",
    "  # Model init\n",
    "  chat_model = ChatGroq(model_name=\"gemma2-9b-it\")\n",
    "  # Prompt set up\n",
    "  prompt1 = f\"Analyze the sentiment of the following text and classify it as positive, negative, or neutral; without explanation: \\n{text}\"\n",
    "  prompt2 = f\"Give the certainty score of the sentiment analysis of the text without explanation. Be it from 0 to 0.59 bad, between 0.6 and 0.79 neutral, and above 0.8 good: \\n{text}\"\n",
    "  # Model response\n",
    "  sentiment = chat_model.invoke(prompt1).content.strip().lower()\n",
    "  score = chat_model.invoke(prompt2).content.strip().lower()\n",
    "  \n",
    "  return {\"text\": text, \"sentiment\": sentiment, \"model_score\": score}\n"
   ]
  },
  {
   "cell_type": "code",
   "execution_count": 6,
   "id": "2ae4941f",
   "metadata": {},
   "outputs": [],
   "source": [
    "# Pipeline build-up\n",
    "\n",
    "runnable_1 = RunnableLambda(lambda texts: [clean_transform_text(text) for text in texts])\n",
    "runnable_2 = RunnableLambda(lambda clean_transform_texts: [sentiment_analysis(text) for text in clean_transform_texts])"
   ]
  },
  {
   "cell_type": "code",
   "execution_count": 7,
   "id": "858395d5",
   "metadata": {},
   "outputs": [],
   "source": [
    "# Texts to analyze\n",
    "\n",
    "reviews = [\n",
    "    \"The product quality is excellent and the service was awesome!\",\n",
    "    \"Very poor experience, the product was bad and delivery was horrible.\",\n",
    "    \"Good value for money, but could be better.\",\n",
    "    \"I had a bad experience, but the customer support was good.\",\n",
    "    \"This is the best product I've ever bought!\",\n",
    "    \"It was a useful product, hope it gets better.\"\n",
    "]"
   ]
  },
  {
   "cell_type": "code",
   "execution_count": 8,
   "id": "213a6028",
   "metadata": {},
   "outputs": [],
   "source": [
    "# Pipeline running\n",
    "\n",
    "custom_sequence = runnable_1 | runnable_2\n",
    "review_analysis_pipeline = RunnableSequence(custom_sequence)"
   ]
  },
  {
   "cell_type": "code",
   "execution_count": 9,
   "id": "eb7dc53f",
   "metadata": {},
   "outputs": [
    {
     "data": {
      "text/plain": [
       "[{'text': 'The product quality is excellent and the service was awesome',\n",
       "  'sentiment': 'positive',\n",
       "  'model_score': '0.95'},\n",
       " {'text': 'Very poor experience the product was bad and delivery was horrible',\n",
       "  'sentiment': 'negative',\n",
       "  'model_score': '0.0'},\n",
       " {'text': 'Good value for money but could be better',\n",
       "  'sentiment': 'neutral',\n",
       "  'model_score': '0.65'},\n",
       " {'text': 'I had a bad experience but the customer support was good',\n",
       "  'sentiment': 'neutral',\n",
       "  'model_score': '0.5'},\n",
       " {'text': 'This is the best product Ive ever bought',\n",
       "  'sentiment': 'positive',\n",
       "  'model_score': '0.99'},\n",
       " {'text': 'It was a useful product hope it gets better',\n",
       "  'sentiment': 'neutral',\n",
       "  'model_score': '0.68'}]"
      ]
     },
     "execution_count": 9,
     "metadata": {},
     "output_type": "execute_result"
    }
   ],
   "source": [
    "result = review_analysis_pipeline.invoke(reviews)\n",
    "result"
   ]
  },
  {
   "cell_type": "code",
   "execution_count": 10,
   "id": "7d1d3039",
   "metadata": {},
   "outputs": [
    {
     "data": {
      "text/html": [
       "<div>\n",
       "<style scoped>\n",
       "    .dataframe tbody tr th:only-of-type {\n",
       "        vertical-align: middle;\n",
       "    }\n",
       "\n",
       "    .dataframe tbody tr th {\n",
       "        vertical-align: top;\n",
       "    }\n",
       "\n",
       "    .dataframe thead th {\n",
       "        text-align: right;\n",
       "    }\n",
       "</style>\n",
       "<table border=\"1\" class=\"dataframe\">\n",
       "  <thead>\n",
       "    <tr style=\"text-align: right;\">\n",
       "      <th></th>\n",
       "      <th>text</th>\n",
       "      <th>sentiment</th>\n",
       "      <th>model_score</th>\n",
       "    </tr>\n",
       "  </thead>\n",
       "  <tbody>\n",
       "    <tr>\n",
       "      <th>0</th>\n",
       "      <td>The product quality is excellent and the servi...</td>\n",
       "      <td>positive</td>\n",
       "      <td>0.95</td>\n",
       "    </tr>\n",
       "    <tr>\n",
       "      <th>1</th>\n",
       "      <td>Very poor experience the product was bad and d...</td>\n",
       "      <td>negative</td>\n",
       "      <td>0.0</td>\n",
       "    </tr>\n",
       "    <tr>\n",
       "      <th>2</th>\n",
       "      <td>Good value for money but could be better</td>\n",
       "      <td>neutral</td>\n",
       "      <td>0.65</td>\n",
       "    </tr>\n",
       "    <tr>\n",
       "      <th>3</th>\n",
       "      <td>I had a bad experience but the customer suppor...</td>\n",
       "      <td>neutral</td>\n",
       "      <td>0.5</td>\n",
       "    </tr>\n",
       "    <tr>\n",
       "      <th>4</th>\n",
       "      <td>This is the best product Ive ever bought</td>\n",
       "      <td>positive</td>\n",
       "      <td>0.99</td>\n",
       "    </tr>\n",
       "    <tr>\n",
       "      <th>5</th>\n",
       "      <td>It was a useful product hope it gets better</td>\n",
       "      <td>neutral</td>\n",
       "      <td>0.68</td>\n",
       "    </tr>\n",
       "  </tbody>\n",
       "</table>\n",
       "</div>"
      ],
      "text/plain": [
       "                                                text sentiment model_score\n",
       "0  The product quality is excellent and the servi...  positive        0.95\n",
       "1  Very poor experience the product was bad and d...  negative         0.0\n",
       "2           Good value for money but could be better   neutral        0.65\n",
       "3  I had a bad experience but the customer suppor...   neutral         0.5\n",
       "4           This is the best product Ive ever bought  positive        0.99\n",
       "5        It was a useful product hope it gets better   neutral        0.68"
      ]
     },
     "execution_count": 10,
     "metadata": {},
     "output_type": "execute_result"
    }
   ],
   "source": [
    "df = pd.DataFrame.from_dict(result)\n",
    "df"
   ]
  }
 ],
 "metadata": {
  "kernelspec": {
   "display_name": ".venv",
   "language": "python",
   "name": "python3"
  },
  "language_info": {
   "codemirror_mode": {
    "name": "ipython",
    "version": 3
   },
   "file_extension": ".py",
   "mimetype": "text/x-python",
   "name": "python",
   "nbconvert_exporter": "python",
   "pygments_lexer": "ipython3",
   "version": "3.12.10"
  }
 },
 "nbformat": 4,
 "nbformat_minor": 5
}

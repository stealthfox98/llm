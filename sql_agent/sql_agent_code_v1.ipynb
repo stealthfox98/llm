{
  "cells": [
    {
      "cell_type": "markdown",
      "metadata": {
        "id": "aPFblz6d749b"
      },
      "source": [
        "# Build End-to-End LLM project for a retail domain (t-shirts selling store)."
      ]
    },
    {
      "cell_type": "markdown",
      "metadata": {
        "id": "3fDCRsNP7xEv"
      },
      "source": [
        "Tech stack for this project\n",
        "* UI: Streamlit\n",
        "* LLM: Google Gemini LLM model\n",
        "* Embeddings: Hugging Face\n",
        "* Framework: Langchain"
      ]
    },
    {
      "cell_type": "markdown",
      "metadata": {},
      "source": [
        "# Importing required modules"
      ]
    },
    {
      "cell_type": "code",
      "execution_count": 1,
      "metadata": {},
      "outputs": [],
      "source": [
        "from langchain_google_genai import ChatGoogleGenerativeAI\n",
        "from langchain_community.utilities import SQLDatabase\n",
        "from langchain_community.tools.sql_database.tool import QuerySQLDatabaseTool\n",
        "from langchain import hub\n",
        "from dotenv import load_dotenv\n",
        "import os\n",
        "import getpass"
      ]
    },
    {
      "cell_type": "markdown",
      "metadata": {},
      "source": [
        "# Insert API key"
      ]
    },
    {
      "cell_type": "code",
      "execution_count": 2,
      "metadata": {},
      "outputs": [],
      "source": [
        "if \"GOOGLE_API_KEY\" not in os.environ:\n",
        "    os.environ[\"GOOGLE_API_KEY\"] = getpass.getpass(\"Enter your Google AI API key: \")"
      ]
    },
    {
      "cell_type": "markdown",
      "metadata": {},
      "source": [
        "# Initializing Gemini AI model"
      ]
    },
    {
      "cell_type": "code",
      "execution_count": 3,
      "metadata": {
        "id": "HSKhzSaW7o_c"
      },
      "outputs": [],
      "source": [
        "llm = ChatGoogleGenerativeAI(\n",
        "    model=\"gemini-2.0-flash\",\n",
        "    temperature=0,\n",
        "    max_tokens=None,\n",
        "    timeout=None,\n",
        "    max_retries=2\n",
        ")"
      ]
    },
    {
      "cell_type": "markdown",
      "metadata": {},
      "source": [
        "# Establishing database connection"
      ]
    },
    {
      "cell_type": "code",
      "execution_count": 4,
      "metadata": {},
      "outputs": [],
      "source": [
        "db_user = \"root\"\n",
        "db_password = \"Kitsune#sql98\"\n",
        "db_host = \"localhost\"\n",
        "db_name = \"bank_data\"\n",
        "\n",
        "# Name of test databases\n",
        "# \"atliq_tshirts\"\n",
        "# \"bank_data\""
      ]
    },
    {
      "cell_type": "code",
      "execution_count": 5,
      "metadata": {},
      "outputs": [],
      "source": [
        "connection_Uri = f\"mysql+pymysql://{db_user}:{db_password}@{db_host}/{db_name}\"\n",
        "db = SQLDatabase.from_uri(connection_Uri)"
      ]
    },
    {
      "cell_type": "code",
      "execution_count": 6,
      "metadata": {},
      "outputs": [
        {
          "name": "stdout",
          "output_type": "stream",
          "text": [
            "\n",
            "CREATE TABLE bankers (\n",
            "\tbanker_id INTEGER, \n",
            "\tbanker_name VARCHAR(7) CHARACTER SET utf8mb3 COLLATE utf8mb3_general_ci, \n",
            "\tbranch_email VARCHAR(19) CHARACTER SET utf8mb3 COLLATE utf8mb3_general_ci, \n",
            "\tbranch_id INTEGER\n",
            ")DEFAULT CHARSET=utf8mb4 COLLATE utf8mb4_0900_ai_ci ENGINE=InnoDB\n",
            "\n",
            "/*\n",
            "3 rows from bankers table:\n",
            "banker_id\tbanker_name\tbranch_email\tbranch_id\n",
            "1\tRosana\trosana@abcbank.com\t2\n",
            "2\tCarina\tcarina@abcbank.com\t5\n",
            "3\tGloria\tgloria@abcbank.com\t3\n",
            "*/\n",
            "\n",
            "\n",
            "CREATE TABLE branch (\n",
            "\tbranch_id INTEGER, \n",
            "\tbranch_name VARCHAR(15) CHARACTER SET utf8mb3 COLLATE utf8mb3_general_ci, \n",
            "\tbranch_city VARCHAR(9) CHARACTER SET utf8mb3 COLLATE utf8mb3_general_ci\n",
            ")DEFAULT CHARSET=utf8mb4 COLLATE utf8mb4_0900_ai_ci ENGINE=InnoDB\n",
            "\n",
            "/*\n",
            "3 rows from branch table:\n",
            "branch_id\tbranch_name\tbranch_city\n",
            "1\tClear Water Bay\tHong Kong\n",
            "2\tDowntown\tEdmonton\n",
            "3\tHowe\tVancouver\n",
            "*/\n",
            "\n",
            "\n",
            "CREATE TABLE credit_card (\n",
            "\tcredit_card_number VARCHAR(19) CHARACTER SET utf8mb3 COLLATE utf8mb3_general_ci, \n",
            "\tcustomer_id INTEGER, \n",
            "\tcurrency VARCHAR(3) CHARACTER SET utf8mb3 COLLATE utf8mb3_general_ci, \n",
            "\tcredit_limit INTEGER, \n",
            "\texpiry_date DATETIME\n",
            ")DEFAULT CHARSET=utf8mb4 COLLATE utf8mb4_0900_ai_ci ENGINE=InnoDB\n",
            "\n",
            "/*\n",
            "3 rows from credit_card table:\n",
            "credit_card_number\tcustomer_id\tcurrency\tcredit_limit\texpiry_date\n",
            "0000-1111-1111-1111\t1\tHKD\t5000\t2002-03-01 00:00:00\n",
            "0000-1111-1111-2222\t1\tHKD\t10000\t2003-01-01 00:00:00\n",
            "0000-2222-2222-2222\t2\tHKD\t5000\t2005-12-01 00:00:00\n",
            "*/\n",
            "\n",
            "\n",
            "CREATE TABLE customer (\n",
            "\tcustomer_id INTEGER, \n",
            "\tcustomer_name VARCHAR(6) CHARACTER SET utf8mb3 COLLATE utf8mb3_general_ci, \n",
            "\tbranch_id INTEGER, \n",
            "\tcustomer_street VARCHAR(15) CHARACTER SET utf8mb3 COLLATE utf8mb3_general_ci, \n",
            "\tcustomer_city VARCHAR(9) CHARACTER SET utf8mb3 COLLATE utf8mb3_general_ci\n",
            ")DEFAULT CHARSET=utf8mb4 COLLATE utf8mb4_0900_ai_ci ENGINE=InnoDB\n",
            "\n",
            "/*\n",
            "3 rows from customer table:\n",
            "customer_id\tcustomer_name\tbranch_id\tcustomer_street\tcustomer_city\n",
            "1\tAmy\t1\tPing Ting Road\tHong Kong\n",
            "2\tBob\t6\tTexaco Road\tHong Kong\n",
            "3\tCarson\t4\tDeerfoot Trail\tCalgary\n",
            "*/\n",
            "\n",
            "\n",
            "CREATE TABLE loan (\n",
            "\tloan_id INTEGER, \n",
            "\tcustomer_id INTEGER, \n",
            "\tamount INTEGER\n",
            ")DEFAULT CHARSET=utf8mb4 COLLATE utf8mb4_0900_ai_ci ENGINE=InnoDB\n",
            "\n",
            "/*\n",
            "3 rows from loan table:\n",
            "loan_id\tcustomer_id\tamount\n",
            "1\t1\t150000\n",
            "2\t9\t20000\n",
            "3\t8\t600000\n",
            "*/\n",
            "\n",
            "\n",
            "CREATE TABLE savings_account (\n",
            "\taccount_number VARCHAR(18) CHARACTER SET utf8mb3 COLLATE utf8mb3_general_ci, \n",
            "\tcustomer_id INTEGER, \n",
            "\tcurrency VARCHAR(3) CHARACTER SET utf8mb3 COLLATE utf8mb3_general_ci, \n",
            "\tbalance_savings INTEGER\n",
            ")DEFAULT CHARSET=utf8mb4 COLLATE utf8mb4_0900_ai_ci ENGINE=InnoDB\n",
            "\n",
            "/*\n",
            "3 rows from savings_account table:\n",
            "account_number\tcustomer_id\tcurrency\tbalance_savings\n",
            "0-1-2222-3333-4444\t1\tHKD\t10000\n",
            "0-1-2222-2222-2222\t3\tHKD\t2000\n",
            "0-1-3333-3333-3333\t4\tCAD\t1000\n",
            "*/\n",
            "--------\n",
            "--------\n",
            "Dialect: mysql\n",
            "Available tables: ['bankers', 'branch', 'credit_card', 'customer', 'loan', 'savings_account']\n"
          ]
        }
      ],
      "source": [
        "print(db.table_info)\n",
        "print(\"--------\")\n",
        "print(\"--------\")\n",
        "print(f\"Dialect: {db.dialect}\")\n",
        "print(f\"Available tables: {db.get_usable_table_names()}\")"
      ]
    },
    {
      "cell_type": "markdown",
      "metadata": {},
      "source": [
        "# Core functionality"
      ]
    },
    {
      "cell_type": "markdown",
      "metadata": {},
      "source": [
        "## SQL Query Generation"
      ]
    },
    {
      "cell_type": "code",
      "execution_count": 7,
      "metadata": {},
      "outputs": [
        {
          "name": "stderr",
          "output_type": "stream",
          "text": [
            "d:\\projects\\mysql_llm_agent\\venv\\Lib\\site-packages\\langsmith\\client.py:272: LangSmithMissingAPIKeyWarning: API key must be provided when using hosted LangSmith API\n",
            "  warnings.warn(\n"
          ]
        }
      ],
      "source": [
        "\"\"\"\n",
        "1. Pulls a specialized SQL generation prompt from LangChain Hub\n",
        "2. Formats the prompt with database schema information\n",
        "3. Sends the prompt to Gemini AI for query generation\n",
        "4. Uses a second prompt to extract just the SQL from the response\n",
        "\"\"\"\n",
        "\n",
        "query_prompt_template = hub.pull(\"langchain-ai/sql-query-system-prompt\")\n",
        "\n",
        "def write_query(question: str):\n",
        "    \"\"\"Generate SQL query from the user's question.\"\"\"\n",
        "    prompt = query_prompt_template.invoke(\n",
        "        {\n",
        "            \"dialect\": db.dialect,\n",
        "            \"top_k\": 10,\n",
        "            \"table_info\": db.get_table_info(),\n",
        "            \"input\": question,\n",
        "        }\n",
        "    )\n",
        "    response = llm.invoke(prompt.to_string())\n",
        "    extraction_prompt = \"\"\"\n",
        "    Please extract the SQL query from the following text and return only the SQL query without any additional characters or formatting:\n",
        "\n",
        "    {response}\n",
        "\n",
        "    SQL Query:\n",
        "    \"\"\"\n",
        "    # Format the prompt with the actual response\n",
        "    prompt = extraction_prompt.format(response=response)\n",
        "    # Invoke the language model with the prompt\n",
        "    parsed_query = llm.invoke(prompt)\n",
        "    return parsed_query.content"
      ]
    },
    {
      "cell_type": "markdown",
      "metadata": {},
      "source": [
        "## Query Execution"
      ]
    },
    {
      "cell_type": "code",
      "execution_count": 8,
      "metadata": {},
      "outputs": [],
      "source": [
        "\"\"\"\n",
        "This function creates a query execution tool and runs the generated SQL against your database, returning the raw results.\n",
        "\"\"\"\n",
        "\n",
        "def execute_query(query: str):\n",
        "    \"\"\"Execute the SQL query.\"\"\"\n",
        "    execute_query_tool = QuerySQLDatabaseTool(db=db)\n",
        "    return execute_query_tool.invoke(query)"
      ]
    },
    {
      "cell_type": "markdown",
      "metadata": {},
      "source": [
        "## Natural Language Answer Generation"
      ]
    },
    {
      "cell_type": "code",
      "execution_count": 9,
      "metadata": {},
      "outputs": [],
      "source": [
        "\"\"\"\n",
        "This function takes the original question, generated SQL, and query results, then asks Gemini to formulate a human-friendly answer.\n",
        "\"\"\"\n",
        "\n",
        "def generate_answer(question: str, query: str, result: str):\n",
        "    \"\"\"Generate an answer using the query results.\"\"\"\n",
        "    prompt = (\n",
        "        \"Given the following user question, corresponding SQL query, \"\n",
        "        \"and SQL result, answer the user question.\\n\\n\"\n",
        "        f'Question: {question}\\n'\n",
        "        f'SQL Query: {query}\\n'\n",
        "        f'SQL Result: {result}'\n",
        "    )\n",
        "    response = llm.invoke(prompt)\n",
        "    return response.content"
      ]
    },
    {
      "cell_type": "markdown",
      "metadata": {},
      "source": [
        "# Putting It All Together"
      ]
    },
    {
      "cell_type": "code",
      "execution_count": 10,
      "metadata": {},
      "outputs": [],
      "source": [
        "def model_output(input):\n",
        "    query = write_query(input)\n",
        "    result = execute_query(query) # type: ignore\n",
        "    answer = generate_answer(input, query, result) # type: ignore\n",
        "\n",
        "    print(f\"Query: \\n\\n{query}\")\n",
        "    print(\"\\n\")\n",
        "    print(answer)"
      ]
    },
    {
      "cell_type": "code",
      "execution_count": 11,
      "metadata": {},
      "outputs": [],
      "source": [
        "# Questions for the \"altiq_tshirts\" database\n",
        "\n",
        "# db1_qns1 = \"How many t-shirts do we have left for nike in extra small size and white color?\"\n",
        "# db1_qns1 = \"How much is the price of the inventory for all small size t-shirts?\"\n",
        "# db1_qns1 = \"If we have to sell all the Levi’s T-shirts today with discounts applied. How much revenue our store will generate (post discounts)?\"\n",
        "# db1_qns1 = \"If we have to sell all the Van Heuson T-shirts today with discounts applied. How much revenue  our store will generate (post discounts)?\""
      ]
    },
    {
      "cell_type": "code",
      "execution_count": 12,
      "metadata": {},
      "outputs": [],
      "source": [
        "# Questions for the \"bank_data\" database\n",
        "\"\"\"\n",
        "\"What is the total balance of all the accounts in the database?\"\n",
        "\"Which account has the lowest balance and what is the client name?\"\n",
        "\"Name of the client who has the highest credit card limit and what is the limit\"\n",
        "\"Name of the client with most number of credit cards, how many and total limit.\"\n",
        "\"Name of the client with the second top number of credit cards, how many and total limit.\"\n",
        "\"\"\"\n",
        "\n",
        "question = \"Para clientes con ahorros mayores a cero, proporciona: Nombre, código de cliente, cantidad de tarjetas de crédito, límite total de crédito. Ordena los datos de límite total en orden descendente y muestra los resultados en formato tabular.\""
      ]
    },
    {
      "cell_type": "code",
      "execution_count": 13,
      "metadata": {},
      "outputs": [
        {
          "name": "stdout",
          "output_type": "stream",
          "text": [
            "Query: \n",
            "\n",
            "SELECT\n",
            "  T1.customer_name,\n",
            "  T1.customer_id,\n",
            "  COUNT(T2.credit_card_number) AS num_credit_cards,\n",
            "  SUM(T2.credit_limit) AS total_credit_limit\n",
            "FROM customer AS T1\n",
            "INNER JOIN credit_card AS T2\n",
            "  ON T1.customer_id = T2.customer_id\n",
            "INNER JOIN savings_account AS T3\n",
            "  ON T1.customer_id = T3.customer_id\n",
            "WHERE\n",
            "  T3.balance_savings > 0\n",
            "GROUP BY\n",
            "  T1.customer_id,\n",
            "  T1.customer_name\n",
            "ORDER BY\n",
            "  total_credit_limit DESC\n",
            "LIMIT 10;\n",
            "\n",
            "\n",
            "```\n",
            "| customer_name | customer_id | num_credit_cards | total_credit_limit |\n",
            "|---|---|---|---|\n",
            "| David | 4 | 1 | 20000 |\n",
            "| Paul | 8 | 1 | 20000 |\n",
            "| Amy | 1 | 2 | 15000 |\n",
            "| Ricky | 9 | 2 | 13000 |\n",
            "| John | 5 | 1 | 10000 |\n",
            "| Linda | 6 | 1 | 10000 |\n",
            "| Mandy | 7 | 1 | 10000 |\n",
            "| Bob | 2 | 1 | 5000 |\n",
            "| Carson | 3 | 1 | 3000 |\n",
            "```\n"
          ]
        }
      ],
      "source": [
        "model_output(question)"
      ]
    },
    {
      "cell_type": "code",
      "execution_count": null,
      "metadata": {},
      "outputs": [],
      "source": []
    }
  ],
  "metadata": {
    "colab": {
      "provenance": []
    },
    "kernelspec": {
      "display_name": "venv",
      "language": "python",
      "name": "python3"
    },
    "language_info": {
      "codemirror_mode": {
        "name": "ipython",
        "version": 3
      },
      "file_extension": ".py",
      "mimetype": "text/x-python",
      "name": "python",
      "nbconvert_exporter": "python",
      "pygments_lexer": "ipython3",
      "version": "3.12.10"
    }
  },
  "nbformat": 4,
  "nbformat_minor": 0
}
